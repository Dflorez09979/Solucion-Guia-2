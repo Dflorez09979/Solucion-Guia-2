{
 "cells": [
  {
   "cell_type": "markdown",
   "metadata": {
    "id": "sVxeQki8vRXz"
   },
   "source": [
    "# **Guía 2**\n",
    "\n",
    "Objetivo: aplicar los conceptos de Pandas en la manipulación y análisis de datos estructurados. Se trabajará con Series y DataFrames, aplicando técnicas de acceso, selección, filtrado y agregación de datos.\n",
    "\n",
    "### **Caso de Negocio: Análisis de Deserción de Clientes en una Empresa de Telecomunicaciones**\n",
    "\n",
    "**Contexto**\n",
    "\n",
    "En la industria de las telecomunicaciones, la retención de clientes es un factor crítico para la sostenibilidad del negocio. La competencia es feroz y adquirir nuevos clientes suele ser más costoso que mantener a los actuales. En este análisis, exploraremos un conjunto de datos que contiene información detallada sobre clientes que han abandonado el servicio (churn) y aquellos que permanecen activos.\n",
    "\n",
    "Nuestro objetivo es identificar los factores clave que influyen en la deserción, comprender patrones de comportamiento y generar estrategias efectivas para reducir la tasa de abandono.\n",
    "\n",
    "La empresa ha experimentado un aumento en la tasa de deserción de clientes, lo que ha provocado:\n",
    "- Pérdida de ingresos recurrentes.\n",
    "- Incremento en los costos de adquisición de nuevos clientes.\n",
    "- Menor estabilidad en la base de clientes a largo plazo.\n",
    "\n",
    "Para abordar esta problemática, es crucial identificar las razones detrás de la deserción y desarrollar estrategias para mejorar la retención de clientes.\n",
    "\n"
   ]
  },
  {
   "cell_type": "markdown",
   "metadata": {
    "id": "TBsud25XSR0w"
   },
   "source": [
    "**Entrega del Trabajo**\n",
    "\n",
    "Los estudiantes deben trabajar en grupos de entre 2 y 4 personas. Cada grupo deberá subir su trabajo a un repositorio de GitHub, asegurándose de que el código y los archivos necesarios estén bien organizados y documentados. Posteriormente, deberán enviar el enlace del repositorio en la plataforma Canvas para su evaluación.\n",
    "\n",
    "Instrucciones para la entrega:\n",
    "\n",
    "Crear un repositorio en GitHub con un nombre descriptivo para el proyecto.\n",
    "\n",
    "Subir el código en Jupyter Notebook (.ipynb) o en formato Python (.py).\n",
    "\n",
    "Incluir un archivo README.md con una breve descripción del trabajo y las instrucciones de ejecución.\n",
    "\n",
    "Compartir el enlace del repositorio en Canvas dentro del plazo establecido.\n",
    "\n"
   ]
  },
  {
   "cell_type": "markdown",
   "metadata": {
    "id": "R1eyqBGSScta"
   },
   "source": [
    "**Descripción de las variables del dataset telecom_churn**\n",
    "\n",
    "El dataset telecom_churn contiene información detallada sobre clientes de una empresa de telecomunicaciones, incluyendo datos generales, planes contratados, uso del servicio telefónico y llamadas al servicio al cliente. Su propósito principal es analizar patrones de deserción de clientes, identificados a través de la variable churn, que indica si un cliente ha abandonado la empresa (1) o sigue siendo cliente (0).\n",
    "\n",
    "Dentro del dataset, encontramos información general como el estado (state) donde reside el cliente, el código de área (area code), y el número de teléfono (phone number), aunque esta última variable no aporta información útil para el análisis, ya que es un identificador único.\n",
    "\n",
    "Además, el dataset registra el tiempo que un cliente ha estado en la empresa a través de la variable account length, lo que puede ayudar a analizar si la duración del contrato influye en la deserción. También se incluyen detalles sobre los planes contratados, como si el cliente tiene un plan internacional (international plan), que le permite realizar llamadas internacionales, o un buzón de voz (voice mail plan), que le permite recibir mensajes de voz.\n",
    "\n",
    "En cuanto al uso del servicio, se registran datos detallados sobre el tiempo en llamadas y los costos asociados. Se divide en tres períodos del día: diurno (total day minutes, total day calls, total day charge), vespertino (total eve minutes, total eve calls, total eve charge) y nocturno (total night minutes, total night calls, total night charge), lo que permite evaluar si hay patrones de consumo que influyen en la deserción. También se incluye información sobre el uso del servicio internacional, con variables como total intl minutes (minutos en llamadas internacionales), total intl calls (cantidad de llamadas internacionales) y total intl charge (costos por llamadas internacionales).\n",
    "\n",
    "Otro aspecto clave del dataset es el número de llamadas al servicio al cliente (customer service calls), ya que una mayor cantidad de llamadas puede indicar insatisfacción y estar relacionada con la decisión del cliente de abandonar la empresa.\n",
    "\n",
    "Finalmente, la variable más importante del análisis es churn, que indica si un cliente ha desertado de la empresa. A partir de esta variable, podemos analizar qué factores influyen en la deserción y encontrar patrones en los clientes que tienen mayor probabilidad de abandonar el servicio.\n"
   ]
  },
  {
   "cell_type": "markdown",
   "metadata": {
    "id": "-gqRGJ8yFs5Y"
   },
   "source": [
    "**Exploración y Limpieza de Datos**\n",
    "\n",
    "Cargar y explorar el dataset\n",
    "\n",
    "Importa Pandas y carga el dataset telecom_churn.csv en un DataFrame.\n",
    "\n",
    "Muestra las primeras 5 filas del DataFrame.\n",
    "\n",
    "Verifica cuántas filas y columnas tiene el dataset.\n",
    "\n",
    "Muestra información general del dataset, incluyendo los tipos de datos.\n",
    "\n",
    "Identifica si hay valores nulos en alguna columna."
   ]
  },
  {
   "cell_type": "code",
   "execution_count": 3,
   "metadata": {
    "id": "wuoyvrE0vQ09"
   },
   "outputs": [
    {
     "name": "stdout",
     "output_type": "stream",
     "text": [
      "5 primeras filas del Df:\n",
      "  state  account length  area code phone number international plan  \\\n",
      "0    KS             128        415     382-4657                 no   \n",
      "1    OH             107        415     371-7191                 no   \n",
      "2    NJ             137        415     358-1921                 no   \n",
      "3    OH              84        408     375-9999                yes   \n",
      "4    OK              75        415     330-6626                yes   \n",
      "\n",
      "  voice mail plan  number vmail messages  total day minutes  total day calls  \\\n",
      "0             yes                     25              265.1              110   \n",
      "1             yes                     26              161.6              123   \n",
      "2              no                      0              243.4              114   \n",
      "3              no                      0              299.4               71   \n",
      "4              no                      0              166.7              113   \n",
      "\n",
      "   total day charge  ...  total eve calls  total eve charge  \\\n",
      "0             45.07  ...               99             16.78   \n",
      "1             27.47  ...              103             16.62   \n",
      "2             41.38  ...              110             10.30   \n",
      "3             50.90  ...               88              5.26   \n",
      "4             28.34  ...              122             12.61   \n",
      "\n",
      "   total night minutes  total night calls  total night charge  \\\n",
      "0                244.7                 91               11.01   \n",
      "1                254.4                103               11.45   \n",
      "2                162.6                104                7.32   \n",
      "3                196.9                 89                8.86   \n",
      "4                186.9                121                8.41   \n",
      "\n",
      "   total intl minutes  total intl calls  total intl charge  \\\n",
      "0                10.0                 3               2.70   \n",
      "1                13.7                 3               3.70   \n",
      "2                12.2                 5               3.29   \n",
      "3                 6.6                 7               1.78   \n",
      "4                10.1                 3               2.73   \n",
      "\n",
      "   customer service calls  churn  \n",
      "0                       1  False  \n",
      "1                       1  False  \n",
      "2                       0  False  \n",
      "3                       2  False  \n",
      "4                       3  False  \n",
      "\n",
      "[5 rows x 21 columns]\n",
      "\n",
      "Número de filas y columnas:\n",
      "(3333, 21)\n",
      "\n",
      "Información general del Df:\n",
      "<class 'pandas.core.frame.DataFrame'>\n",
      "RangeIndex: 3333 entries, 0 to 3332\n",
      "Data columns (total 21 columns):\n",
      " #   Column                  Non-Null Count  Dtype  \n",
      "---  ------                  --------------  -----  \n",
      " 0   state                   3333 non-null   object \n",
      " 1   account length          3333 non-null   int64  \n",
      " 2   area code               3333 non-null   int64  \n",
      " 3   phone number            3333 non-null   object \n",
      " 4   international plan      3333 non-null   object \n",
      " 5   voice mail plan         3333 non-null   object \n",
      " 6   number vmail messages   3333 non-null   int64  \n",
      " 7   total day minutes       3333 non-null   float64\n",
      " 8   total day calls         3333 non-null   int64  \n",
      " 9   total day charge        3333 non-null   float64\n",
      " 10  total eve minutes       3333 non-null   float64\n",
      " 11  total eve calls         3333 non-null   int64  \n",
      " 12  total eve charge        3333 non-null   float64\n",
      " 13  total night minutes     3333 non-null   float64\n",
      " 14  total night calls       3333 non-null   int64  \n",
      " 15  total night charge      3333 non-null   float64\n",
      " 16  total intl minutes      3333 non-null   float64\n",
      " 17  total intl calls        3333 non-null   int64  \n",
      " 18  total intl charge       3333 non-null   float64\n",
      " 19  customer service calls  3333 non-null   int64  \n",
      " 20  churn                   3333 non-null   bool   \n",
      "dtypes: bool(1), float64(8), int64(8), object(4)\n",
      "memory usage: 524.2+ KB\n",
      "None\n",
      "\n",
      "Valores nulos en cada columna:\n",
      "state                     0\n",
      "account length            0\n",
      "area code                 0\n",
      "phone number              0\n",
      "international plan        0\n",
      "voice mail plan           0\n",
      "number vmail messages     0\n",
      "total day minutes         0\n",
      "total day calls           0\n",
      "total day charge          0\n",
      "total eve minutes         0\n",
      "total eve calls           0\n",
      "total eve charge          0\n",
      "total night minutes       0\n",
      "total night calls         0\n",
      "total night charge        0\n",
      "total intl minutes        0\n",
      "total intl calls          0\n",
      "total intl charge         0\n",
      "customer service calls    0\n",
      "churn                     0\n",
      "dtype: int64\n"
     ]
    }
   ],
   "source": [
    "import pandas as pd\n",
    "# Ruta\n",
    "file_path = r'E:\\\\OneDrive - Banco Agrario de Colombia S.A\\\\PROGRAMACION PARA CIENCIA DE DATOS\\\\telecom_churn.csv'\n",
    "# Importa el archivo\n",
    "df = pd.read_csv(file_path)\n",
    "# Muestra las 5 primeras filas del Df\n",
    "print(\"5 primeras filas del Df:\")\n",
    "print(df.head())\n",
    "# Cuenta filas y columnas tiene el Df\n",
    "print(\"\\nNúmero de filas y columnas:\")\n",
    "print(df.shape)\n",
    "# Muestra información general del Df y el tipo de Dato\n",
    "print(\"\\nInformación general del Df:\")\n",
    "print(df.info())\n",
    "# Identifica valores nulos en alguna columna\n",
    "print(\"\\nValores nulos en cada columna:\")\n",
    "print(df.isnull().sum())"
   ]
  },
  {
   "cell_type": "markdown",
   "metadata": {
    "id": "PIGXq-ijFgb4"
   },
   "source": [
    "**Análisis de Churn y Factores Relacionados**\n",
    "\n",
    "Calcula el porcentaje de clientes que han desertado (churn = 1).\n",
    "\n",
    "Identifica si los clientes con plan internacional (international plan) tienen mayor tasa de deserción.\n",
    "\n",
    "Identifica si los clientes con buzón de voz (voice mail plan) tienen menor tasa de deserción."
   ]
  },
  {
   "cell_type": "code",
   "execution_count": 4,
   "metadata": {
    "id": "3_TFqdwBwUD-"
   },
   "outputs": [
    {
     "name": "stdout",
     "output_type": "stream",
     "text": [
      "El porcentaje de clientes que han desertado es: 14.49%\n",
      "El % de deserción para los clientes con 'international plan' es: 42.41%\n",
      "La tasa de deserción para los clientes con 'international plan' es mayor.\n",
      "El % de deserción para los clientes con 'voice mail plan' es: 8.68%\n",
      "La tasa de deserción para los clientes con 'voice mail plan' es menor que el promedio.\n"
     ]
    }
   ],
   "source": [
    "# Calcula el % de clientes que han desertado churn = 1\n",
    "Desertados = (df['churn'].sum() / len(df)) * 100\n",
    "print(f\"El porcentaje de clientes que han desertado es: {Desertados:.2f}%\")\n",
    "# Calcula % de deserción para la columna 'international plan'\n",
    "desercion_international_plan = df[df['international plan'] == 'yes']['churn'].mean() * 100\n",
    "print(f\"El % de deserción para los clientes con 'international plan' es: {desercion_international_plan:.2f}%\")\n",
    "# Calcula si la tasa de deserción para 'international plan' es mayor que el promedio general\n",
    "if desercion_international_plan > Desertados:\n",
    "    print(\"La tasa de deserción para los clientes con 'international plan' es mayor.\")\n",
    "else:\n",
    "    print(\"La tasa de deserción para los clientes con 'international plan' es menor.\")\n",
    "    # Calcula la tasa de deserción para la columna 'voice mail plan'\n",
    "desercion_voicemail_plan = df[df['voice mail plan'] == 'yes']['churn'].mean() * 100\n",
    "print(f\"El % de deserción para los clientes con 'voice mail plan' es: {desercion_voicemail_plan:.2f}%\")\n",
    "# Determina si la tasa de deserción para 'voice mail plan' es menor que el promedio general\n",
    "if desercion_voicemail_plan < Desertados:\n",
    "    print(\"La tasa de deserción para los clientes con 'voice mail plan' es menor que el promedio.\")\n",
    "else:\n",
    "    print(\"La tasa de deserción para los clientes con 'voice mail plan' es mayor que el promedio.\")"
   ]
  },
  {
   "cell_type": "markdown",
   "metadata": {
    "id": "yL8Y_juFFup7"
   },
   "source": [
    "**Análisis de la Duración del Servicio y Deserción**\n",
    "\n",
    "¿Cuál es la duración promedio de la cuenta (account length) entre clientes que desertaron y los que permanecen?\n",
    "\n",
    "¿Los clientes con cuentas más antiguas tienen más probabilidades de desertar?"
   ]
  },
  {
   "cell_type": "code",
   "execution_count": 5,
   "metadata": {
    "id": "7ViU0n6lGFao"
   },
   "outputs": [
    {
     "name": "stdout",
     "output_type": "stream",
     "text": [
      "La media de la columna 'account length' para clientes que desertaron es: 102.66\n",
      "La media de la columna 'account length' para clientes que permanecen es: 100.79\n"
     ]
    }
   ],
   "source": [
    "# Calcula el promedio de la columna 'account length' para clientes que desertaron\n",
    "duracion_promedio_desertaron = df[df['churn'] == 1]['account length'].mean()\n",
    "print(f\"La media de la columna 'account length' para clientes que desertaron es: {duracion_promedio_desertaron:.2f}\")\n",
    "# Calcula el promedio de la columna 'account length' para clientes que permanecen\n",
    "duracion_promedio_permanecen = df[df['churn'] == 0]['account length'].mean()\n",
    "print(f\"La media de la columna 'account length' para clientes que permanecen es: {duracion_promedio_permanecen:.2f}\")"
   ]
  },
  {
   "cell_type": "markdown",
   "metadata": {
    "id": "vyaa82K0GF6B"
   },
   "source": [
    "**Relación entre Deserción y Uso del Servicio**\n",
    "\n",
    "Compara la cantidad de minutos usados en llamadas diurnas (total day minutes) entre clientes con y sin churn.\n",
    "\n",
    "Compara la cantidad de minutos usados en llamadas nocturnas (total night minutes).\n",
    "\n",
    "Compara el número total de llamadas (total day calls) entre clientes con y sin churn."
   ]
  },
  {
   "cell_type": "code",
   "execution_count": 6,
   "metadata": {
    "id": "d4aPKcv2GrpL"
   },
   "outputs": [
    {
     "name": "stdout",
     "output_type": "stream",
     "text": [
      "La cantidad de minutos 'total day minutes' para clientes que desertaron es: 99939.50\n",
      "La cantidad de minutos 'total day minutes' para clientes que permanecen es: 499250.90\n"
     ]
    }
   ],
   "source": [
    "# Calcula la cantidad de minutos columna 'total day calls' para clientes que desertaron\n",
    "duracion_promedio_desertaron = df[df['churn'] == 1]['total day minutes'].sum()\n",
    "print(f\"La cantidad de minutos 'total day minutes' para clientes que desertaron es: {duracion_promedio_desertaron:.2f}\")\n",
    "# Calcula la cantidad de minutos columna 'total day calls' para clientes que permanecen\n",
    "duracion_promedio_desertaron = df[df['churn'] == 0]['total day minutes'].sum()\n",
    "print(f\"La cantidad de minutos 'total day minutes' para clientes que permanecen es: {duracion_promedio_desertaron:.2f}\")"
   ]
  },
  {
   "cell_type": "markdown",
   "metadata": {
    "id": "aKl9LnZgGsDT"
   },
   "source": [
    "**Impacto de las Llamadas al Servicio al Cliente en la Deserción**\n",
    "\n",
    "Calcula el número promedio de llamadas al servicio al cliente (customer service calls) entre clientes que desertaron y los que no.\n",
    "\n",
    "Divide los clientes en dos grupos:\n",
    "\n",
    "- Grupo 1: Clientes que llamaron más de 3 veces al servicio al cliente.\n",
    "- Grupo 2: Clientes que llamaron 3 veces o menos.\n",
    "Compara la tasa de churn entre ambos grupos."
   ]
  },
  {
   "cell_type": "code",
   "execution_count": 7,
   "metadata": {
    "id": "ac9qDXgrGz-M"
   },
   "outputs": [
    {
     "name": "stdout",
     "output_type": "stream",
     "text": [
      "La tasa de desertados para el G1 (más de 3 llamadas) es: 51.69%\n",
      "La tasa de desertados para el G2 (3 llamadas o menos) es: 11.25%\n"
     ]
    }
   ],
   "source": [
    "# Divide los clientes en dos grupos\n",
    "G1 = df[df['customer service calls'] > 3]\n",
    "G2 = df[df['customer service calls'] <= 3]\n",
    "# Calcula la tasa de desertados para cada grupo\n",
    "tasa_desertados_G1 = G1['churn'].mean() * 100\n",
    "tasa_desertados_G2 = G2['churn'].mean() * 100\n",
    "print(f\"La tasa de desertados para el G1 (más de 3 llamadas) es: {tasa_desertados_G1:.2f}%\")\n",
    "print(f\"La tasa de desertados para el G2 (3 llamadas o menos) es: {tasa_desertados_G2:.2f}%\")"
   ]
  },
  {
   "cell_type": "markdown",
   "metadata": {
    "id": "U7oTziiyG0Wb"
   },
   "source": [
    "**Análisis del Costo de las Llamadas y Churn**\n",
    "\n",
    "Compara el costo total de llamadas diurnas (total day charge) entre clientes con y sin churn.\n",
    "\n",
    "Compara el costo total de llamadas nocturnas (total night charge).\n",
    "\n",
    "¿Los clientes con mayor gasto en llamadas internacionales (total intl charge) tienen más probabilidades de desertar?"
   ]
  },
  {
   "cell_type": "code",
   "execution_count": 10,
   "metadata": {
    "id": "YWGmcLdoIYwx",
    "scrolled": false
   },
   "outputs": [
    {
     "name": "stdout",
     "output_type": "stream",
     "text": [
      "El costo total 'total day charge' para clientes que desertaron es: 16989.97\n",
      "El costo total 'total day charge' para clientes que permanecen es: 84874.20\n",
      "El costo total 'total night charge' para clientes que desertaron es: 4460.76\n",
      "El costo total 'total night charge' para clientes que permanecen es: 25667.31\n",
      "La Probabilidad de deserción para clientes con > gasto en llamadas internacionales es: 15.95%\n",
      "La probabilidad de deserción para clientes con <= gasto en llamadas internacionales es: 12.99%\n"
     ]
    }
   ],
   "source": [
    "# Total costo columna (total day charge) para clientes que desertaron\n",
    "costo_total_day_desertaron = df[df['churn'] == 1]['total day charge'].sum()\n",
    "print(f\"El costo total 'total day charge' para clientes que desertaron es: {costo_total_day_desertaron:.2f}\")\n",
    "# Total costo columna (total day charge) para clientes que permanecen\n",
    "costo_total_day_permanecen = df[df['churn'] == 0]['total day charge'].sum()\n",
    "print(f\"El costo total 'total day charge' para clientes que permanecen es: {costo_total_day_permanecen:.2f}\")\n",
    "# Total costo columna (total night charge) para clientes que desertaron\n",
    "costo_total_night_desertaron = df[df['churn'] == 1]['total night charge'].sum()\n",
    "print(f\"El costo total 'total night charge' para clientes que desertaron es: {costo_total_night_desertaron:.2f}\")\n",
    "# Total costo columna (total night charge) para clientes que permanecen\n",
    "costo_total_night_permanecen = df[df['churn'] == 0]['total night charge'].sum()\n",
    "print(f\"El costo total 'total night charge' para clientes que permanecen es: {costo_total_night_permanecen:.2f}\")\n",
    "# Probabilidad de Desertar\n",
    "gasto_promedio_intl = df['total intl charge'].mean()\n",
    "# Divide los clientes en dos grupos:tienen un gasto mayor y los que tienen un gasto menor o igual al promedio\n",
    "mayor_gasto = df[df['total intl charge'] > gasto_promedio_intl]\n",
    "menor_gasto = df[df['total intl charge'] <= gasto_promedio_intl]\n",
    "# Calcula la tasa de deserción para cada grupo\n",
    "tasa_churn_mayor_gasto = mayor_gasto['churn'].mean() * 100\n",
    "tasa_churn_menor_gasto = menor_gasto['churn'].mean() * 100\n",
    "print(f\"La Probabilidad de deserción para clientes con > gasto en llamadas internacionales es: {tasa_churn_mayor_gasto:.2f}%\")\n",
    "print(f\"La probabilidad de deserción para clientes con <= gasto en llamadas internacionales es: {tasa_churn_menor_gasto:.2f}%\")"
   ]
  },
  {
   "cell_type": "markdown",
   "metadata": {},
   "source": [
    "## Muchas Gracias ##"
   ]
  },
  {
   "cell_type": "markdown",
   "metadata": {},
   "source": [
    "### Estudiantes :  Diego Florez Castillo & Juan Lozano Novoa\n",
    "### Cedulas de Ciudadania 1.010.209.979 &       1.010.194952   "
   ]
  },
  {
   "attachments": {
    "Logo%20Ean.png": {
     "image/png": "[encoded data removed]"
    }
   },
   "cell_type": "markdown",
   "metadata": {},
   "source": [
    "![Logo%20Ean.png](attachment:Logo%20Ean.png)"
   ]
  }
 ],
 "metadata": {
  "colab": {
   "provenance": []
  },
  "kernelspec": {
   "display_name": "Python 3 (ipykernel)",
   "language": "python",
   "name": "python3"
  },
  "language_info": {
   "codemirror_mode": {
    "name": "ipython",
    "version": 3
   },
   "file_extension": ".py",
   "mimetype": "text/x-python",
   "name": "python",
   "nbconvert_exporter": "python",
   "pygments_lexer": "ipython3",
   "version": "3.9.7"
  }
 },
 "nbformat": 4,
 "nbformat_minor": 1
}
